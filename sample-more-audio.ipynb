{
 "cells": [
  {
   "cell_type": "code",
   "execution_count": null,
   "metadata": {},
   "outputs": [],
   "source": [
    "# !pip install pydub"
   ]
  },
  {
   "cell_type": "code",
   "execution_count": 18,
   "metadata": {},
   "outputs": [],
   "source": [
    "import os\n",
    "import random\n",
    "from pydub import AudioSegment\n",
    "\n",
    "# Copy the file of the master folder e.g  \"D:/BiscayneBay/Data/Hydromoth/Complete\"\n",
    "input_dir = r\"D:/BiscayneBay/Data/Hydromoth/Complete\"\n",
    "\n",
    "# Make an output folder somewhere and copy the filepath here e.g:\n",
    "output_dir = r\"D:/BiscayneBay/Data/Hydromoth/Complete/output\"\n",
    "counter = 0\n",
    "\n",
    "# How many samples to take from each folder. \n",
    "number_to_sample = 50\n",
    "\n",
    "# Convert the master path to a common format (relative path)\n",
    "master_path = os.path.relpath(input_dir).split(os.sep)\n",
    "\n",
    "# Walk through the directories\n",
    "for root, dirs, files in os.walk(input_dir):\n",
    "    # Find .wav files\n",
    "    wav_files = [file for file in files if file.endswith(\".wav\")]\n",
    "    if wav_files:\n",
    "        # Randomly select 20 files if there are more than 20 .wav files\n",
    "        if len(wav_files) > number_to_sample:\n",
    "            wav_files = random.sample(wav_files, number_to_sample)\n",
    "        \n",
    "        # Convert the current directory path to a common format (relative path)\n",
    "        cur_dir_path = os.path.relpath(root).split(os.sep)\n",
    "        \n",
    "        # Find the first subdirectory after the master path\n",
    "        for folder in cur_dir_path[len(master_path):]:\n",
    "            folder_name = folder\n",
    "            \n",
    "\n",
    "        for file in wav_files:\n",
    "            # Load .wav file\n",
    "            audio = AudioSegment.from_wav(os.path.join(root, file))\n",
    "            # Get the first 5 seconds\n",
    "            first_5_sec = audio[:5000]  # pydub works in milliseconds\n",
    "            # Construct the new filename\n",
    "            new_file = \"n_\" + folder_name + \"_\" + str(counter) + \".\" + file\n",
    "            # Save the first 5 seconds as a new file in the output directory\n",
    "            first_5_sec.export(os.path.join(output_dir, new_file), format=\"wav\")\n",
    "            # Increment the counter\n",
    "            counter += 1\n"
   ]
  }
 ],
 "metadata": {
  "kernelspec": {
   "display_name": "vs_studio_messing_about",
   "language": "python",
   "name": "python3"
  },
  "language_info": {
   "codemirror_mode": {
    "name": "ipython",
    "version": 3
   },
   "file_extension": ".py",
   "mimetype": "text/x-python",
   "name": "python",
   "nbconvert_exporter": "python",
   "pygments_lexer": "ipython3",
   "version": "3.8.15"
  },
  "orig_nbformat": 4
 },
 "nbformat": 4,
 "nbformat_minor": 2
}
